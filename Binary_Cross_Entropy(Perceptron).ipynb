{
 "cells": [
  {
   "cell_type": "code",
   "execution_count": 65,
   "metadata": {},
   "outputs": [],
   "source": [
    "import numpy as np\n",
    "import pandas as pd"
   ]
  },
  {
   "cell_type": "markdown",
   "metadata": {},
   "source": [
    "### Perceptron from scratch using Binary Cross-Entropy"
   ]
  },
  {
   "cell_type": "code",
   "execution_count": 66,
   "metadata": {},
   "outputs": [],
   "source": [
    "class MyPerceptron_bce:\n",
    "    \n",
    "    def __init__(self, learning_rate=0.1 ,n_iterations=100):\n",
    "        \n",
    "        self.lr = learning_rate\n",
    "        self.epochs = n_iterations\n",
    "        self.weights = None\n",
    "        self.bias = None\n",
    "        \n",
    "    #sigmoid method\n",
    "    def sigmoid(self,z):\n",
    "         \n",
    "        return 1/(1+np.exp(-z))\n",
    "        \n",
    "        \n",
    "    def fit(self , X ,y):\n",
    "        \n",
    "        #initializing weights and bias\n",
    "        \n",
    "        self.weights = np.ones(X.shape[1])\n",
    "        self.bias = 0\n",
    "        \n",
    "        for i in range(self.epochs):\n",
    "            \n",
    "            #y_cap calculation(y_cap=Wx+b)\n",
    "            y_cap = self.sigmoid(np.dot(X_train,self.weights) + self.bias)\n",
    "            \n",
    "            #updating weights\n",
    "            w_d = - ((np.dot((y_train - y_cap),X_train))/X_train.shape[0])   #3\n",
    "            b_d = - ((np.mean(y_train - y_cap)))\n",
    "\n",
    "            #calculating loss\n",
    "            #loss = np.mean(- y_train * np.log(y_cap) - (1 - y_train) * np.log(1 - y_cap))\n",
    "\n",
    "            y_cap = self.sigmoid(np.dot(X_train,self.weights) + self.bias)\n",
    "            loss = np.mean(- y_train * np.log(y_cap) - (1 - y_train) * np.log(1 - y_cap))\n",
    "\n",
    "\n",
    "            print('After {} epoch the loss is'.format(i+1),loss)\n",
    "         \n",
    "        print(\"Training Complete\")\n",
    "        self.weights = self.weights - (self.lr * w_d)\n",
    "        self.bias = self.bias - (self.lr * b_d) \n",
    "        print('weights =',self.weights)\n",
    "        print('bias =',self.bias)\n",
    "            \n",
    "    \n",
    "    def predict(self,X):\n",
    "        y_pred = []\n",
    "            \n",
    "        for i in range(X.shape[0]):\n",
    "            y_pred.append(self.sigmoid(np.dot(self.weights,X[i]) + self.bias)>0)\n",
    "                \n",
    "        return np.array(y_pred)\n"
   ]
  },
  {
   "cell_type": "code",
   "execution_count": 67,
   "metadata": {},
   "outputs": [],
   "source": [
    "df=pd.read_csv('datasets_1846_3197_Social_Network_Ads.csv')\n"
   ]
  },
  {
   "cell_type": "code",
   "execution_count": 68,
   "metadata": {},
   "outputs": [
    {
     "data": {
      "text/html": [
       "<div>\n",
       "<style scoped>\n",
       "    .dataframe tbody tr th:only-of-type {\n",
       "        vertical-align: middle;\n",
       "    }\n",
       "\n",
       "    .dataframe tbody tr th {\n",
       "        vertical-align: top;\n",
       "    }\n",
       "\n",
       "    .dataframe thead th {\n",
       "        text-align: right;\n",
       "    }\n",
       "</style>\n",
       "<table border=\"1\" class=\"dataframe\">\n",
       "  <thead>\n",
       "    <tr style=\"text-align: right;\">\n",
       "      <th></th>\n",
       "      <th>User ID</th>\n",
       "      <th>Gender</th>\n",
       "      <th>Age</th>\n",
       "      <th>EstimatedSalary</th>\n",
       "      <th>Purchased</th>\n",
       "    </tr>\n",
       "  </thead>\n",
       "  <tbody>\n",
       "    <tr>\n",
       "      <th>150</th>\n",
       "      <td>15679651</td>\n",
       "      <td>Female</td>\n",
       "      <td>26</td>\n",
       "      <td>15000</td>\n",
       "      <td>0</td>\n",
       "    </tr>\n",
       "    <tr>\n",
       "      <th>235</th>\n",
       "      <td>15646227</td>\n",
       "      <td>Male</td>\n",
       "      <td>46</td>\n",
       "      <td>79000</td>\n",
       "      <td>1</td>\n",
       "    </tr>\n",
       "    <tr>\n",
       "      <th>70</th>\n",
       "      <td>15756932</td>\n",
       "      <td>Male</td>\n",
       "      <td>25</td>\n",
       "      <td>80000</td>\n",
       "      <td>0</td>\n",
       "    </tr>\n",
       "    <tr>\n",
       "      <th>24</th>\n",
       "      <td>15705113</td>\n",
       "      <td>Male</td>\n",
       "      <td>46</td>\n",
       "      <td>23000</td>\n",
       "      <td>1</td>\n",
       "    </tr>\n",
       "    <tr>\n",
       "      <th>307</th>\n",
       "      <td>15733973</td>\n",
       "      <td>Female</td>\n",
       "      <td>47</td>\n",
       "      <td>113000</td>\n",
       "      <td>1</td>\n",
       "    </tr>\n",
       "  </tbody>\n",
       "</table>\n",
       "</div>"
      ],
      "text/plain": [
       "      User ID  Gender  Age  EstimatedSalary  Purchased\n",
       "150  15679651  Female   26            15000          0\n",
       "235  15646227    Male   46            79000          1\n",
       "70   15756932    Male   25            80000          0\n",
       "24   15705113    Male   46            23000          1\n",
       "307  15733973  Female   47           113000          1"
      ]
     },
     "execution_count": 68,
     "metadata": {},
     "output_type": "execute_result"
    }
   ],
   "source": [
    "df.sample(5)"
   ]
  },
  {
   "cell_type": "markdown",
   "metadata": {},
   "source": [
    "### PreProcessing"
   ]
  },
  {
   "cell_type": "code",
   "execution_count": 69,
   "metadata": {},
   "outputs": [],
   "source": [
    "df.drop(columns=['User ID'] , inplace=True)"
   ]
  },
  {
   "cell_type": "code",
   "execution_count": 70,
   "metadata": {},
   "outputs": [],
   "source": [
    "#LabelEncoder\n",
    "\n",
    "from sklearn.preprocessing import LabelEncoder\n",
    "encoder = LabelEncoder()"
   ]
  },
  {
   "cell_type": "code",
   "execution_count": 71,
   "metadata": {},
   "outputs": [],
   "source": [
    "df['Gender'] = encoder.fit_transform(df['Gender'])"
   ]
  },
  {
   "cell_type": "code",
   "execution_count": 72,
   "metadata": {},
   "outputs": [
    {
     "data": {
      "text/html": [
       "<div>\n",
       "<style scoped>\n",
       "    .dataframe tbody tr th:only-of-type {\n",
       "        vertical-align: middle;\n",
       "    }\n",
       "\n",
       "    .dataframe tbody tr th {\n",
       "        vertical-align: top;\n",
       "    }\n",
       "\n",
       "    .dataframe thead th {\n",
       "        text-align: right;\n",
       "    }\n",
       "</style>\n",
       "<table border=\"1\" class=\"dataframe\">\n",
       "  <thead>\n",
       "    <tr style=\"text-align: right;\">\n",
       "      <th></th>\n",
       "      <th>Gender</th>\n",
       "      <th>Age</th>\n",
       "      <th>EstimatedSalary</th>\n",
       "      <th>Purchased</th>\n",
       "    </tr>\n",
       "  </thead>\n",
       "  <tbody>\n",
       "    <tr>\n",
       "      <th>0</th>\n",
       "      <td>1</td>\n",
       "      <td>19</td>\n",
       "      <td>19000</td>\n",
       "      <td>0</td>\n",
       "    </tr>\n",
       "    <tr>\n",
       "      <th>1</th>\n",
       "      <td>1</td>\n",
       "      <td>35</td>\n",
       "      <td>20000</td>\n",
       "      <td>0</td>\n",
       "    </tr>\n",
       "    <tr>\n",
       "      <th>2</th>\n",
       "      <td>0</td>\n",
       "      <td>26</td>\n",
       "      <td>43000</td>\n",
       "      <td>0</td>\n",
       "    </tr>\n",
       "    <tr>\n",
       "      <th>3</th>\n",
       "      <td>0</td>\n",
       "      <td>27</td>\n",
       "      <td>57000</td>\n",
       "      <td>0</td>\n",
       "    </tr>\n",
       "    <tr>\n",
       "      <th>4</th>\n",
       "      <td>1</td>\n",
       "      <td>19</td>\n",
       "      <td>76000</td>\n",
       "      <td>0</td>\n",
       "    </tr>\n",
       "  </tbody>\n",
       "</table>\n",
       "</div>"
      ],
      "text/plain": [
       "   Gender  Age  EstimatedSalary  Purchased\n",
       "0       1   19            19000          0\n",
       "1       1   35            20000          0\n",
       "2       0   26            43000          0\n",
       "3       0   27            57000          0\n",
       "4       1   19            76000          0"
      ]
     },
     "execution_count": 72,
     "metadata": {},
     "output_type": "execute_result"
    }
   ],
   "source": [
    "df.head()"
   ]
  },
  {
   "cell_type": "markdown",
   "metadata": {},
   "source": [
    "### X and y"
   ]
  },
  {
   "cell_type": "code",
   "execution_count": 73,
   "metadata": {},
   "outputs": [],
   "source": [
    "X = df.iloc[:,0:-1].values\n",
    "y = df.iloc[:,-1].values"
   ]
  },
  {
   "cell_type": "code",
   "execution_count": 74,
   "metadata": {},
   "outputs": [
    {
     "name": "stdout",
     "output_type": "stream",
     "text": [
      "(400, 3)\n",
      "(400,)\n"
     ]
    }
   ],
   "source": [
    "print(X.shape)\n",
    "print(y.shape)"
   ]
  },
  {
   "cell_type": "code",
   "execution_count": 75,
   "metadata": {},
   "outputs": [],
   "source": [
    "from sklearn.preprocessing import StandardScaler\n",
    "scaler = StandardScaler()"
   ]
  },
  {
   "cell_type": "code",
   "execution_count": 76,
   "metadata": {},
   "outputs": [],
   "source": [
    "X = scaler.fit_transform(X)"
   ]
  },
  {
   "cell_type": "markdown",
   "metadata": {},
   "source": [
    "### Train-Test split"
   ]
  },
  {
   "cell_type": "code",
   "execution_count": 77,
   "metadata": {},
   "outputs": [],
   "source": [
    "from sklearn.model_selection import train_test_split\n",
    "X_train,X_test,y_train,y_test = train_test_split(X,y,test_size=0.2,random_state=1) "
   ]
  },
  {
   "cell_type": "code",
   "execution_count": 78,
   "metadata": {},
   "outputs": [
    {
     "name": "stdout",
     "output_type": "stream",
     "text": [
      "(320, 3)\n",
      "(320,)\n"
     ]
    }
   ],
   "source": [
    "print(X_train.shape)\n",
    "print(y_train.shape)"
   ]
  },
  {
   "cell_type": "code",
   "execution_count": 79,
   "metadata": {},
   "outputs": [
    {
     "name": "stdout",
     "output_type": "stream",
     "text": [
      "After 1 epoch the loss is 0.5426203507566827\n",
      "After 2 epoch the loss is 0.5426203507566827\n",
      "After 3 epoch the loss is 0.5426203507566827\n",
      "After 4 epoch the loss is 0.5426203507566827\n",
      "After 5 epoch the loss is 0.5426203507566827\n",
      "After 6 epoch the loss is 0.5426203507566827\n",
      "After 7 epoch the loss is 0.5426203507566827\n",
      "After 8 epoch the loss is 0.5426203507566827\n",
      "After 9 epoch the loss is 0.5426203507566827\n",
      "After 10 epoch the loss is 0.5426203507566827\n",
      "After 11 epoch the loss is 0.5426203507566827\n",
      "After 12 epoch the loss is 0.5426203507566827\n",
      "After 13 epoch the loss is 0.5426203507566827\n",
      "After 14 epoch the loss is 0.5426203507566827\n",
      "After 15 epoch the loss is 0.5426203507566827\n",
      "After 16 epoch the loss is 0.5426203507566827\n",
      "After 17 epoch the loss is 0.5426203507566827\n",
      "After 18 epoch the loss is 0.5426203507566827\n",
      "After 19 epoch the loss is 0.5426203507566827\n",
      "After 20 epoch the loss is 0.5426203507566827\n",
      "After 21 epoch the loss is 0.5426203507566827\n",
      "After 22 epoch the loss is 0.5426203507566827\n",
      "After 23 epoch the loss is 0.5426203507566827\n",
      "After 24 epoch the loss is 0.5426203507566827\n",
      "After 25 epoch the loss is 0.5426203507566827\n",
      "After 26 epoch the loss is 0.5426203507566827\n",
      "After 27 epoch the loss is 0.5426203507566827\n",
      "After 28 epoch the loss is 0.5426203507566827\n",
      "After 29 epoch the loss is 0.5426203507566827\n",
      "After 30 epoch the loss is 0.5426203507566827\n",
      "After 31 epoch the loss is 0.5426203507566827\n",
      "After 32 epoch the loss is 0.5426203507566827\n",
      "After 33 epoch the loss is 0.5426203507566827\n",
      "After 34 epoch the loss is 0.5426203507566827\n",
      "After 35 epoch the loss is 0.5426203507566827\n",
      "After 36 epoch the loss is 0.5426203507566827\n",
      "After 37 epoch the loss is 0.5426203507566827\n",
      "After 38 epoch the loss is 0.5426203507566827\n",
      "After 39 epoch the loss is 0.5426203507566827\n",
      "After 40 epoch the loss is 0.5426203507566827\n",
      "After 41 epoch the loss is 0.5426203507566827\n",
      "After 42 epoch the loss is 0.5426203507566827\n",
      "After 43 epoch the loss is 0.5426203507566827\n",
      "After 44 epoch the loss is 0.5426203507566827\n",
      "After 45 epoch the loss is 0.5426203507566827\n",
      "After 46 epoch the loss is 0.5426203507566827\n",
      "After 47 epoch the loss is 0.5426203507566827\n",
      "After 48 epoch the loss is 0.5426203507566827\n",
      "After 49 epoch the loss is 0.5426203507566827\n",
      "After 50 epoch the loss is 0.5426203507566827\n",
      "After 51 epoch the loss is 0.5426203507566827\n",
      "After 52 epoch the loss is 0.5426203507566827\n",
      "After 53 epoch the loss is 0.5426203507566827\n",
      "After 54 epoch the loss is 0.5426203507566827\n",
      "After 55 epoch the loss is 0.5426203507566827\n",
      "After 56 epoch the loss is 0.5426203507566827\n",
      "After 57 epoch the loss is 0.5426203507566827\n",
      "After 58 epoch the loss is 0.5426203507566827\n",
      "After 59 epoch the loss is 0.5426203507566827\n",
      "After 60 epoch the loss is 0.5426203507566827\n",
      "After 61 epoch the loss is 0.5426203507566827\n",
      "After 62 epoch the loss is 0.5426203507566827\n",
      "After 63 epoch the loss is 0.5426203507566827\n",
      "After 64 epoch the loss is 0.5426203507566827\n",
      "After 65 epoch the loss is 0.5426203507566827\n",
      "After 66 epoch the loss is 0.5426203507566827\n",
      "After 67 epoch the loss is 0.5426203507566827\n",
      "After 68 epoch the loss is 0.5426203507566827\n",
      "After 69 epoch the loss is 0.5426203507566827\n",
      "After 70 epoch the loss is 0.5426203507566827\n",
      "After 71 epoch the loss is 0.5426203507566827\n",
      "After 72 epoch the loss is 0.5426203507566827\n",
      "After 73 epoch the loss is 0.5426203507566827\n",
      "After 74 epoch the loss is 0.5426203507566827\n",
      "After 75 epoch the loss is 0.5426203507566827\n",
      "After 76 epoch the loss is 0.5426203507566827\n",
      "After 77 epoch the loss is 0.5426203507566827\n",
      "After 78 epoch the loss is 0.5426203507566827\n",
      "After 79 epoch the loss is 0.5426203507566827\n",
      "After 80 epoch the loss is 0.5426203507566827\n",
      "After 81 epoch the loss is 0.5426203507566827\n",
      "After 82 epoch the loss is 0.5426203507566827\n",
      "After 83 epoch the loss is 0.5426203507566827\n",
      "After 84 epoch the loss is 0.5426203507566827\n",
      "After 85 epoch the loss is 0.5426203507566827\n",
      "After 86 epoch the loss is 0.5426203507566827\n",
      "After 87 epoch the loss is 0.5426203507566827\n",
      "After 88 epoch the loss is 0.5426203507566827\n",
      "After 89 epoch the loss is 0.5426203507566827\n",
      "After 90 epoch the loss is 0.5426203507566827\n",
      "After 91 epoch the loss is 0.5426203507566827\n",
      "After 92 epoch the loss is 0.5426203507566827\n",
      "After 93 epoch the loss is 0.5426203507566827\n",
      "After 94 epoch the loss is 0.5426203507566827\n",
      "After 95 epoch the loss is 0.5426203507566827\n",
      "After 96 epoch the loss is 0.5426203507566827\n",
      "After 97 epoch the loss is 0.5426203507566827\n",
      "After 98 epoch the loss is 0.5426203507566827\n",
      "After 99 epoch the loss is 0.5426203507566827\n",
      "After 100 epoch the loss is 0.5426203507566827\n",
      "Training Complete\n",
      "weights = [0.98151945 1.01276613 1.00109298]\n",
      "bias = -0.014554610996573743\n"
     ]
    }
   ],
   "source": [
    "model = MyPerceptron_bce()\n",
    "model.fit(X_train , y_train)"
   ]
  },
  {
   "cell_type": "code",
   "execution_count": 80,
   "metadata": {},
   "outputs": [],
   "source": []
  },
  {
   "cell_type": "code",
   "execution_count": null,
   "metadata": {},
   "outputs": [],
   "source": []
  }
 ],
 "metadata": {
  "kernelspec": {
   "display_name": "Python 3",
   "language": "python",
   "name": "python3"
  },
  "language_info": {
   "codemirror_mode": {
    "name": "ipython",
    "version": 3
   },
   "file_extension": ".py",
   "mimetype": "text/x-python",
   "name": "python",
   "nbconvert_exporter": "python",
   "pygments_lexer": "ipython3",
   "version": "3.8.3"
  }
 },
 "nbformat": 4,
 "nbformat_minor": 4
}
